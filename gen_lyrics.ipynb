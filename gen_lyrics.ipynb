{
 "cells": [
  {
   "cell_type": "markdown",
   "metadata": {},
   "source": [
    "# plan\n",
    "\n",
    "first, we will build a baseline system with the ngram model. \n",
    "\n",
    "Our overall model will be generating a lot of candidates and then use a ranking model to select the best next line.\n",
    "\n",
    "second, we will investigate whether the D2V scores explains coherence - concretely, we study if intra-song sentences have better semantic similarity than inter-song sentences? how about the distance between lines within a song? \n",
    "\n",
    "then, if that works out, we'll use this as a heuristic to select more coherent lyrics lines. \n",
    "\n",
    "concrete question though is how to do line-to-line generation. a basic procedure is to generate a line at a time (which seems to be what most systems are doing). then, when generating the next line, we need to generate a lot of candidates and then rank them and heuristically pick a semantically coherent yet not to similar line. \n",
    "\n",
    "ideas from literature:\n",
    "\n",
    "1. stanford n-gram generator. they used tf-icf, which is particularly tuned to the input lyrics. at the first stage we don't take input lyrics into account. \n",
    "\n",
    "2. an interesting idea is the Japanese system where they used topic models to sample words, so they can cater to different topics. also there is an idea of using MIT professor's idea on promoting entity grid based coherence."
   ]
  },
  {
   "cell_type": "code",
   "execution_count": null,
   "metadata": {
    "collapsed": true
   },
   "outputs": [],
   "source": []
  }
 ],
 "metadata": {
  "kernelspec": {
   "display_name": "Python 2",
   "language": "python",
   "name": "python2"
  },
  "language_info": {
   "codemirror_mode": {
    "name": "ipython",
    "version": 2
   },
   "file_extension": ".py",
   "mimetype": "text/x-python",
   "name": "python",
   "nbconvert_exporter": "python",
   "pygments_lexer": "ipython2",
   "version": "2.7.12"
  }
 },
 "nbformat": 4,
 "nbformat_minor": 0
}
