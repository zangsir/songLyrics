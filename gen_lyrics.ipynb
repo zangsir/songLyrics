{
 "cells": [
  {
   "cell_type": "markdown",
   "metadata": {},
   "source": [
    "# plan\n",
    "\n",
    "ideas from literature:\n",
    "\n",
    "1. stanford n-gram generator. they used tf-icf, which is particularly tuned to the input lyrics. at the first stage we don't take input lyrics into account. Also: syllable rhyming resource.\n",
    "\n",
    "2. an interesting idea is the Japanese system where they used topic models to sample words, so they can cater to different topics."
   ]
  },
  {
   "cell_type": "code",
   "execution_count": null,
   "metadata": {
    "collapsed": true
   },
   "outputs": [],
   "source": []
  },
  {
   "cell_type": "markdown",
   "metadata": {},
   "source": [
    "# Rhyming"
   ]
  },
  {
   "cell_type": "code",
   "execution_count": null,
   "metadata": {
    "collapsed": true
   },
   "outputs": [],
   "source": []
  },
  {
   "cell_type": "code",
   "execution_count": 143,
   "metadata": {
    "collapsed": false
   },
   "outputs": [
    {
     "name": "stdout",
     "output_type": "stream",
     "text": [
      "True\n",
      "False\n"
     ]
    }
   ],
   "source": [
    "import pronouncing\n",
    "def is_rhyme(word1,word2):\n",
    "    return word1 in pronouncing.rhymes(word2)\n",
    "print is_rhyme('hood','good')\n",
    "print is_rhyme('hood','hooded')"
   ]
  },
  {
   "cell_type": "code",
   "execution_count": null,
   "metadata": {
    "collapsed": true
   },
   "outputs": [],
   "source": []
  },
  {
   "cell_type": "code",
   "execution_count": null,
   "metadata": {
    "collapsed": true
   },
   "outputs": [],
   "source": []
  },
  {
   "cell_type": "code",
   "execution_count": null,
   "metadata": {
    "collapsed": true
   },
   "outputs": [],
   "source": []
  },
  {
   "cell_type": "code",
   "execution_count": null,
   "metadata": {
    "collapsed": true
   },
   "outputs": [],
   "source": []
  },
  {
   "cell_type": "code",
   "execution_count": 37,
   "metadata": {
    "collapsed": false
   },
   "outputs": [
    {
     "data": {
      "text/plain": [
       "True"
      ]
     },
     "execution_count": 37,
     "metadata": {},
     "output_type": "execute_result"
    }
   ],
   "source": []
  },
  {
   "cell_type": "code",
   "execution_count": null,
   "metadata": {
    "collapsed": true
   },
   "outputs": [],
   "source": []
  },
  {
   "cell_type": "markdown",
   "metadata": {},
   "source": [
    "# to-do: implement linear-interpolation in ngram SRILM"
   ]
  },
  {
   "cell_type": "markdown",
   "metadata": {},
   "source": [
    "principled way to do this:\n",
    "\n",
    "1. we already have a dev set and train set. we can train LM on train set, vary:\n",
    "\n",
    "-addsmooth\n",
    "\n",
    "-linear interpolation\n",
    "\n",
    "2. then we can test on the dev set to get the lowest perplexity.\n",
    "\n",
    "3. we need to clean the text data by removing any non-alphanumeric characters and by removing the song meta line."
   ]
  },
  {
   "cell_type": "raw",
   "metadata": {},
   "source": [
    "#before:\n",
    "./ngram-count -text lyrics_train_data.txt -order 3 -lm train.lm -kndiscount2\n",
    "#that worked fine. what did not work is -addsmooth 1, or -order 5\n",
    "\n",
    "#perplexity\n",
    "ngram -lm corpus.lm -ppl test_corpus.txt\n",
    "./ngram -lm train.lm -ppl lyrics_test_data.txt\n",
    "\n",
    "\n",
    "#basic training:(using kndiscount2 seems to result in lowest test set ppl)\n",
    "./ngram-count -text lyrics_train_data.txt -order 1  -lm train1.lm -kndiscount2\n",
    "./ngram-count -text lyrics_train_data.txt -order 2  -lm train2.lm -kndiscount2\n",
    "./ngram-count -text lyrics_train_data.txt -order 3  -lm train3.lm -kndiscount2\n",
    "\n",
    "#you need to first train a unigram model, a bigram model, then coupled with your trigram model. \n",
    "\n",
    "#mixed intrepolation lm\n",
    "-mix-lm file\n",
    "\n",
    "#another mixed ngram lm\n",
    "-mix-lm2 file\n",
    "\n",
    "#use lambda for two lm mixture\n",
    "#Set the weight of the main model when interpolating with -mix-lm. Default value is 0.5\n",
    "-lambda weight\n",
    "\n",
    "#lambda for three or more components\n",
    "-mix-lambda2 weight\n",
    "\n",
    "\n",
    "#mix unigram, bigram, trigram\n",
    "ngram -lm train3.lm -mix-lm train1.lm -lambda 0.2 -mix-lm2 train2.lm -mix-lambda2 0.4 -ppl lyrics_test_data.txt\n",
    "\n",
    "#generate\n",
    "./ngram -lm train.lm -gen 10"
   ]
  },
  {
   "cell_type": "markdown",
   "metadata": {},
   "source": [
    "# [5/1]you need to first train a unigram model, a bigram model, then coupled with your trigram model. we need to clean the text data by removing any non-alphanumeric characters and by removing the song meta line.\n",
    "\n",
    "# [5/1]the lesson today is that perplexity doesn't seem to always work right now. the lowest ppl is a good sentence, but the next bests are not that good. we need either a better LM or to generate better sentences, because grammaticality is low now. I am counting on a better LM to solve this, maybe the linear interpolation. also try fourgram. \n",
    "\n",
    "# [5/2]we've got it to work: train LM using srilm, and use the kenlm python 3 interface to load the LM and score sentences. after comparing the scoring in python terminal (see my dump txt file of the terminal output), it seems like high score (loglik) corresponds to shorter sentences, which makes sense, although there are some longer sents that are good, they don't necessarily have the best score. We should normalize by sent length to derive the norm_score. Then it should be good. Check stanford paper to see what other tweaks they did.\n",
    "\n",
    "# done cleaning corpus: next: (1) train linear interpolation LM; (2) we are ready to do feature extraction."
   ]
  },
  {
   "cell_type": "code",
   "execution_count": null,
   "metadata": {
    "collapsed": true
   },
   "outputs": [],
   "source": []
  },
  {
   "cell_type": "code",
   "execution_count": null,
   "metadata": {
    "collapsed": true
   },
   "outputs": [],
   "source": []
  },
  {
   "cell_type": "code",
   "execution_count": null,
   "metadata": {
    "collapsed": true
   },
   "outputs": [],
   "source": []
  },
  {
   "cell_type": "code",
   "execution_count": null,
   "metadata": {
    "collapsed": true
   },
   "outputs": [],
   "source": []
  },
  {
   "cell_type": "code",
   "execution_count": null,
   "metadata": {
    "collapsed": true
   },
   "outputs": [],
   "source": []
  },
  {
   "cell_type": "code",
   "execution_count": null,
   "metadata": {
    "collapsed": true
   },
   "outputs": [],
   "source": [
    "#assign perplexity to dev set data"
   ]
  },
  {
   "cell_type": "code",
   "execution_count": null,
   "metadata": {
    "collapsed": true
   },
   "outputs": [],
   "source": []
  },
  {
   "cell_type": "code",
   "execution_count": null,
   "metadata": {
    "collapsed": true
   },
   "outputs": [],
   "source": []
  },
  {
   "cell_type": "markdown",
   "metadata": {},
   "source": [
    "# ML: classify a line into whether its a good next line (=1) or not(=0)"
   ]
  },
  {
   "cell_type": "markdown",
   "metadata": {},
   "source": [
    "i. How to rank?\n",
    "\n",
    "1) We train a classifier to rank them. Specifically, the classifier will give the a bunch of features based on current candidates and previous line, and it will classify each candidate as a good next line or not (binary).\n",
    "\n",
    "ii. Features:\n",
    "\n",
    "1) Perplexity(correct syntax)\n",
    "\n",
    "2) Coherence (semantic relatedness)\n",
    "\n",
    "- D2V cosine distance b/t current candidate and previous line\n",
    "\n",
    "- W2V average distance b/t current cand and prev line\n",
    "\n",
    "- Other measures from CompDisc\n",
    "\n",
    "3) Other song-specific constratraints \n",
    "\n",
    "- Rhyme (with prev line, or within the cand line)\n",
    "\n",
    "- Syllables (length: number of syllable of the current cand and prev line)\n",
    "\n",
    "- ?>Timing<?\n",
    "\n",
    "4) Training the classifier: we will use distant supervision - where we use these two kinds of training data:\n",
    "\n",
    "- Next_line: for each line, compute features for its next line as above, class label is 1;\n",
    "\n",
    "- Not_next_line: for each line, randomly sample a line from anywhere outside of the song, and compute their features, class label is 0;\n",
    "\n",
    "- we need to also include some automatically generated lines with low log likelihood\n"
   ]
  },
  {
   "cell_type": "code",
   "execution_count": null,
   "metadata": {
    "collapsed": true
   },
   "outputs": [],
   "source": []
  },
  {
   "cell_type": "code",
   "execution_count": null,
   "metadata": {
    "collapsed": true
   },
   "outputs": [],
   "source": []
  },
  {
   "cell_type": "code",
   "execution_count": null,
   "metadata": {
    "collapsed": true
   },
   "outputs": [],
   "source": []
  },
  {
   "cell_type": "markdown",
   "metadata": {},
   "source": [
    "# clean corpus"
   ]
  },
  {
   "cell_type": "code",
   "execution_count": null,
   "metadata": {
    "collapsed": true
   },
   "outputs": [],
   "source": [
    "#1. get rid of metadata, also ()"
   ]
  },
  {
   "cell_type": "code",
   "execution_count": 41,
   "metadata": {
    "collapsed": false
   },
   "outputs": [
    {
     "name": "stdout",
     "output_type": "stream",
     "text": [
      "README.md         \u001b[1m\u001b[34mbuild_data\u001b[m\u001b[m/       gen_lyrics.ipynb\r\n"
     ]
    }
   ],
   "source": [
    "ls"
   ]
  },
  {
   "cell_type": "code",
   "execution_count": 42,
   "metadata": {
    "collapsed": false
   },
   "outputs": [
    {
     "name": "stdout",
     "output_type": "stream",
     "text": [
      "build_dataset.ipynb    lyrics_test_data.txt   lyrics_train_data.txt\r\n"
     ]
    }
   ],
   "source": [
    "ls build_data/\n"
   ]
  },
  {
   "cell_type": "code",
   "execution_count": 138,
   "metadata": {
    "collapsed": false
   },
   "outputs": [],
   "source": [
    "import re \n",
    "\n",
    "train_data='build_data/lyrics_train_data.txt'\n",
    "test_data='build_data/lyrics_test_data.txt'\n",
    "train_data_clean=train_data.replace('.txt','_clean.txt')\n",
    "test_data_clean=test_data.replace('.txt','_clean.txt')\n",
    "#data_str=open(data,'r').read()\n",
    "def clean_data(data_str):\n",
    "    data_str=data_str.replace('(','')\n",
    "    data_str=data_str.replace(')','')\n",
    "    data_str=data_str.replace('*CHORUS*','')\n",
    "    data_str=data_str.replace('*Chorus:','')\n",
    "    \n",
    "    \n",
    "    \n",
    "    pat=u'SONG_META_ARTIST_TITLE:.+\\n'\n",
    "    patt=u'\\[.*\\]'\n",
    "    cleaned=re.sub(pat,'',data_str)\n",
    "    cleaned=re.sub(patt,'',cleaned)\n",
    "    cleaned=re.sub(re.compile(u'^verse.*\\n',re.MULTILINE|re.I),'',cleaned)\n",
    "    cleaned=re.sub(re.compile(u'^\\*',re.MULTILINE),'',cleaned)\n",
    "    cleaned=re.sub(re.compile(u'\\*\\n'),'\\n',cleaned)\n",
    "    cleaned=re.sub(re.compile(u'^\\S+:\\s*\\n',re.MULTILINE),'\\n',cleaned)\n",
    "    cleaned=re.sub(re.compile(u'^[Rr]epeat.*\\n',re.MULTILINE),'',cleaned)\n",
    "    cleaned=re.sub(re.compile(u'^chorus.*\\n',re.MULTILINE|re.I),'',cleaned)\n",
    "    \n",
    "    return cleaned\n",
    "    \n",
    "def clean_file(fn,output):\n",
    "    data_str=open(fn,'r').read()\n",
    "    cleaned=clean_data(data_str)\n",
    "    f=open(output,'w')\n",
    "    f.write(cleaned)\n",
    "    \n",
    "    "
   ]
  },
  {
   "cell_type": "code",
   "execution_count": null,
   "metadata": {
    "collapsed": true
   },
   "outputs": [],
   "source": []
  },
  {
   "cell_type": "code",
   "execution_count": null,
   "metadata": {
    "collapsed": true
   },
   "outputs": [],
   "source": []
  },
  {
   "cell_type": "code",
   "execution_count": null,
   "metadata": {
    "collapsed": true
   },
   "outputs": [],
   "source": []
  },
  {
   "cell_type": "code",
   "execution_count": null,
   "metadata": {
    "collapsed": true
   },
   "outputs": [],
   "source": []
  },
  {
   "cell_type": "code",
   "execution_count": null,
   "metadata": {
    "collapsed": true
   },
   "outputs": [],
   "source": []
  },
  {
   "cell_type": "code",
   "execution_count": null,
   "metadata": {
    "collapsed": true
   },
   "outputs": [],
   "source": []
  },
  {
   "cell_type": "code",
   "execution_count": null,
   "metadata": {
    "collapsed": true
   },
   "outputs": [],
   "source": []
  },
  {
   "cell_type": "code",
   "execution_count": null,
   "metadata": {
    "collapsed": true
   },
   "outputs": [],
   "source": []
  },
  {
   "cell_type": "code",
   "execution_count": 129,
   "metadata": {
    "collapsed": false
   },
   "outputs": [
    {
     "name": "stdout",
     "output_type": "stream",
     "text": [
      "\n",
      "\n",
      "Verse: \n",
      "Hiding in the television again \n",
      "Looking for anyone to turn you on \n",
      "Caught on film by a stranger's eye \n",
      "Just another place I don't belong \n"
     ]
    }
   ],
   "source": [
    "a=\"\"\"repeat\n",
    "\n",
    "*repeat coh\n",
    "\n",
    "repeat chorus\n",
    "\n",
    "Repeat dgh\n",
    "\n",
    "*cladgn*\n",
    "\n",
    "dagsadg\n",
    "\n",
    "chorus\n",
    "\n",
    "Verse:\n",
    "adsgasdga asdgasdg asdgag\n",
    "asdgasdg asgasdg\n",
    "\n",
    "\n",
    "soemthing:\n",
    "\n",
    "\n",
    "Chorus:\n",
    "\n",
    "CHORUS:\n",
    "\n",
    "something\"\"\"\n",
    "\n",
    "a=\"\"\"\n",
    "\n",
    "Verse: \n",
    "Hiding in the television again \n",
    "Looking for anyone to turn you on \n",
    "Caught on film by a stranger's eye \n",
    "Just another place I don't belong \"\"\"\n",
    "\n",
    "#print re.sub(re.compile(u'^[Rr]epeat.*\\n',re.MULTILINE),'',a)\n",
    "a=re.sub(re.compile(u'^\\*',re.MULTILINE),'',a)    \n",
    "a=re.sub(re.compile(u'\\*\\n',re.MULTILINE),'\\n',a)\n",
    "a=re.sub(re.compile(u'^[Rr]epeat.*\\n',re.MULTILINE),'',a)\n",
    "a=re.sub(re.compile(u'^\\S+:\\n'),'\\n',a)\n",
    "print re.sub(re.compile(u'^chorus.*\\n',re.MULTILINE|re.I),'',a)"
   ]
  },
  {
   "cell_type": "code",
   "execution_count": null,
   "metadata": {
    "collapsed": true
   },
   "outputs": [],
   "source": []
  },
  {
   "cell_type": "code",
   "execution_count": 133,
   "metadata": {
    "collapsed": false
   },
   "outputs": [
    {
     "name": "stdout",
     "output_type": "stream",
     "text": [
      "Verse: \n",
      "\n"
     ]
    }
   ],
   "source": [
    "m=re.search(re.compile(u'^\\S+:\\s*\\n',re.MULTILINE),a)\n",
    "print m.group()"
   ]
  },
  {
   "cell_type": "code",
   "execution_count": null,
   "metadata": {
    "collapsed": true
   },
   "outputs": [],
   "source": []
  },
  {
   "cell_type": "code",
   "execution_count": 117,
   "metadata": {
    "collapsed": true
   },
   "outputs": [],
   "source": [
    "b=\"\"\"\n",
    "Letters still unopened in a home that's not a home \n",
    "Ain't nothing going to ever change that \n",
    "The writings on the wall in words I never wrote \n",
    "Could it be my lies after all \n",
    "\n",
    "PreChorus: \n",
    "Staring in the mirror at these patterns of odd \n",
    "Taking after your mother another should have been \n",
    "Ending up like superman in the closet \n",
    "Unable to come out \n",
    "\n",
    "Just one more game where someone has to lose \n",
    "Just one more way to separate the truth \n",
    "Just one more line they already used \n",
    "Just one more me \n",
    "Pretending to be you \n",
    "\n",
    "Verse: \n",
    "Hiding in the television again \n",
    "Looking for anyone to turn you on \n",
    "Caught on film by a stranger's eye \n",
    "Just another place I don't belong \n",
    "\n",
    "PreChorus: \n",
    "Breaking mirrors of there patterns of odd \n",
    "Blaming your father for who you really are \n",
    "Placing ads for heroes cause you can't save yourself \n",
    "\n",
    "Just one more game where someone has to lose \n",
    "Just one more way to separate the truth \n",
    "Just one more line they already used \n",
    "Just one more me \n",
    "Pretending to be you\n",
    "\"\"\""
   ]
  },
  {
   "cell_type": "code",
   "execution_count": 134,
   "metadata": {
    "collapsed": false
   },
   "outputs": [
    {
     "name": "stdout",
     "output_type": "stream",
     "text": [
      "\n",
      "Letters still unopened in a home that's not a home \n",
      "Ain't nothing going to ever change that \n",
      "The writings on the wall in words I never wrote \n",
      "Could it be my lies after all \n",
      "\n",
      "\n",
      "Staring in the mirror at these patterns of odd \n",
      "Taking after your mother another should have been \n",
      "Ending up like superman in the closet \n",
      "Unable to come out \n",
      "\n",
      "Just one more game where someone has to lose \n",
      "Just one more way to separate the truth \n",
      "Just one more line they already used \n",
      "Just one more me \n",
      "Pretending to be you \n",
      "\n",
      "\n",
      "Hiding in the television again \n",
      "Looking for anyone to turn you on \n",
      "Caught on film by a stranger's eye \n",
      "Just another place I don't belong \n",
      "\n",
      "\n",
      "Breaking mirrors of there patterns of odd \n",
      "Blaming your father for who you really are \n",
      "Placing ads for heroes cause you can't save yourself \n",
      "\n",
      "Just one more game where someone has to lose \n",
      "Just one more way to separate the truth \n",
      "Just one more line they already used \n",
      "Just one more me \n",
      "Pretending to be you\n",
      "\n"
     ]
    }
   ],
   "source": [
    "a=b\n",
    "a=re.sub(re.compile(u'^\\*',re.MULTILINE),'',a)    \n",
    "a=re.sub(re.compile(u'\\*\\n',re.MULTILINE),'\\n',a)\n",
    "a=re.sub(re.compile(u'^[Rr]epeat.*\\n',re.MULTILINE),'',a)\n",
    "a=re.sub(re.compile(u'^\\S+:\\s*\\n',re.MULTILINE),'\\n',a)\n",
    "print re.sub(re.compile(u'^chorus.*\\n',re.MULTILINE|re.I),'',a)"
   ]
  },
  {
   "cell_type": "markdown",
   "metadata": {},
   "source": [
    "## verse vs chorus\n",
    "\n",
    "there are about 270 chrous passages in the entire training + test data, not enough to train a separate LM. \n",
    "\n",
    "However, is it possible we can extract some features/contraints from these data?\n",
    "\n",
    "actually, we shouldn't, because there are many chorus lines in the corpus that is not marked as chorus (most of them), so therefore this training division doesn't make sense. For now we'll remove these chorus markers, but in the future ideally we can build and train two data sets on verse and chorus."
   ]
  },
  {
   "cell_type": "markdown",
   "metadata": {},
   "source": [
    "## clean anything thats within a bracket like [...]"
   ]
  },
  {
   "cell_type": "code",
   "execution_count": null,
   "metadata": {
    "collapsed": true
   },
   "outputs": [],
   "source": []
  },
  {
   "cell_type": "code",
   "execution_count": 72,
   "metadata": {
    "collapsed": true
   },
   "outputs": [],
   "source": [
    "test_bra=\"\"\"In the beginning was a golden ray\n",
    "God's power, but to my dismay\n",
    "\"We're only human,\" that's what people say\n",
    "Still I search far away\n",
    "\n",
    "[Chorus]\n",
    "\n",
    "There but for the grace of God go I\n",
    "I pretend I'm not afraid to die\n",
    "If there's a heaven, then I will apply\n",
    "Devils heat, you better take a ride\n",
    "I'm not crazy, but I believe in butterflies\n",
    "Dreams that die, should be a big surprise\n",
    "And life is my favourite nursery rhyme\n",
    "I'm not afraid of the big bad wolf\n",
    "\n",
    "[Chorus]\n",
    "\n",
    "\n",
    "\n",
    "Oh, so strong\n",
    "Tell me stories of distant shores\n",
    "All night long\n",
    "I shiver all over\n",
    "When I see your lovly tan\n",
    "And I can tell by your clear blue eyes\n",
    "You're a sailor man\n",
    "\n",
    "Na na... na na... na na... na na... na na na [3x]\n",
    "Oh, so cruel to me.\n",
    "\n",
    "Oh, why has it taken so long\n",
    "To see what's been happening to me?\n",
    "This time around, hey, I'm gone.\n",
    "Hey, I'm gone.\n",
    "\n",
    "You better get ready for a stormy day\n",
    "'cuz everything you love's about to wash away.\n",
    "I'm not gonna stand around and let you be\n",
    "So cruel to me. No.\n",
    "\n",
    "I'm not gonna stand around and let you be \n",
    "So cruel to me. No.\n",
    "\n",
    "Na na... na na... na na... na na... na na na [3x]\n",
    "\n",
    "Not gonna stand around and let you be\"\"\"\n"
   ]
  },
  {
   "cell_type": "code",
   "execution_count": null,
   "metadata": {
    "collapsed": true
   },
   "outputs": [],
   "source": []
  },
  {
   "cell_type": "code",
   "execution_count": 75,
   "metadata": {
    "collapsed": true
   },
   "outputs": [],
   "source": [
    "test=test+test_bra"
   ]
  },
  {
   "cell_type": "code",
   "execution_count": null,
   "metadata": {
    "collapsed": true
   },
   "outputs": [],
   "source": []
  },
  {
   "cell_type": "code",
   "execution_count": 76,
   "metadata": {
    "collapsed": false
   },
   "outputs": [
    {
     "name": "stdout",
     "output_type": "stream",
     "text": [
      "\n",
      "But don't leave your keys for me, open the door\n",
      "Nobody's getting hurt here if nobody cares\n",
      "Nobody's getting lost if nobody's going anywhere\n",
      "\n",
      "And darling I know that you can't be sure of anything anymore\n",
      "\n",
      "I wanna love you like it ain't no secret\n",
      "Like I'm not ashamed to show\n",
      "Nor would I ever, oh never never\n",
      "Oh never let you go\n",
      "I'll never let you go\n",
      "\n",
      "I'm on a tight rope maybe I'm scared\n",
      "Maybe I love you but you never play fair\n",
      "So shed a little light where nobody sees\n",
      "I built a bible for the saints with my disbelief\n",
      "\n",
      "And darling I know that you can't be sure of anything anymore\n",
      "\n",
      "I wanna love you like it ain't no secret\n",
      "\n",
      "Like I'm not ashamed to show\n",
      "Nor would I ever, oh never never\n",
      "Oh never let you go\n",
      "\n",
      "My love is easy\n",
      "Tell me bout yours and then\n",
      "Tell me you need me\n",
      "Carry me home again\n",
      "It's been a mystery\n",
      "Most of the time\n",
      "Stranded on the big top\n",
      "Throw me a line\n",
      "\n",
      "I wanna love you like it ain't no secret\n",
      "Like I'm not ashamed to show\n",
      "Nor would I ever, oh never never\n",
      "Oh never let you go\n",
      "I'll never let you go\n",
      "\n",
      "\n",
      "\n",
      "It's my turn, searching for another break\n",
      "Set me free, I only see the setting sun\n",
      "Let me feel, like my luck has just begun\n",
      "Wherever I go, it's all the same\n",
      "We're so much alike, well, with a different name\n",
      "Days going by, I'm gonna catch 'em again\n",
      "I'm gonna lose this half-life, I'm on my way\n",
      "\n",
      "Come on, we never know before we try\n",
      "Come on, theres nothing we can't leave behind\n",
      "Come on, we're past the time for questions, why?\n",
      "Come on, yeah come on, what are we waiting for\n",
      "Come on\n",
      "\n",
      "Looking back, what happened to the time we spent\n",
      "It's gone, no small cost for a life of rent\n",
      "Let it go, Regret are just for feeling low\n",
      "Here and now, the only thing that's left to know\n",
      "\n",
      "Come on, we never know before we try\n",
      "Come on, theres nothing we can't leave behind\n",
      "Come on, we're past the time for questions, why\n",
      "Come on, yeah come on, what are we waiting for\n",
      "\n",
      "We owe it to ourselves now\n",
      "And no one else can live our dreams\n",
      "We owe it to ourselves, come on, come on\n",
      "What are we waiting for\n",
      "Come on, we never know before we try\n",
      "Come on, there's nothing we can't leave behind\n",
      "Come on, we're past the time for questions, why\n",
      "Come on, yeah come on, what are we waiting for\n",
      "Uhhhh, come on,\n",
      "Come on, we never know before we try\n",
      "So, come on, come on what are we waiting for\n",
      "Get it on, It's my turn, set me free\n",
      "Why don't you set me free, let me feel\n",
      "Uh, yeah, yeah, yeah\n",
      "Bring it on, bring it on, It's my turn\n",
      "Set me free\n",
      "Talk to me throw the ball back\n",
      "Let me feel, come on\n",
      "\n",
      "\n",
      "\n",
      "You love me\n",
      "You love me like you love no one\n",
      "You leave me\n",
      "You leave me\n",
      "You leave me for the second time\n",
      "You come back\n",
      "You come back\n",
      "You come back like you did before\n",
      "Youre wasted\n",
      "Youre wasted\n",
      "Youre wasted like you were in\n",
      "\n",
      "California, fairyland\n",
      "California, you can't look bad\n",
      "Were over\n",
      "Were over\n",
      "\n",
      "Were over with this you and me\n",
      "Youre happy\n",
      "Im happy\n",
      "Were happy in our make belive\n",
      "Youre with another one\n",
      "Youre with another one\n",
      "\n",
      "Youre with that neighbours deep tanned blonde\n",
      "You scumbag\n",
      "You scumbag\n",
      "\n",
      "Youre scum and you can go to\n",
      "California, fairyland\n",
      "California, you can't look bad\n",
      "California, fairyland\n",
      "California, you can't look bad\n",
      "No, no you can't be like that\n",
      "No way, I can't be like that\n",
      "Oh no, well soon be like that\n",
      "California, fairyland\n",
      "California, you can't look bad\n",
      "California, fairyland\n",
      "California, you can't look bad\n",
      "\n",
      "\n",
      "\n",
      "That it weighs you down\n",
      "So all you have is time\n",
      "Don't turn away\n",
      "We have both seen darker days\n",
      "And there's always a light that shines\n",
      "\n",
      "Do you feel like all your hopes are a long way gone\n",
      "Does it seem like every road only takes you down\n",
      "Do they shut you out\n",
      "Don't be afraid of what they say\n",
      "Throw back your head and cry\n",
      "\n",
      "When you need somebody, find me there\n",
      "When you're feeling empty I'll be there - find me\n",
      "\n",
      "When you're feeling weary with no peace of mind\n",
      "And the tone of your voice is hollow\n",
      "You're home to stranger that won't belong\n",
      "And there's no-one else to follow\n",
      "\n",
      "Do you feel like nowhere, oh no, there's no better way\n",
      "Does it seem like nobody hears a word you say\n",
      "And they shut you out\n",
      "And where does it say that a man aint a right\n",
      "To throw back his head and cry\n",
      "\n",
      "You don't need to tell me 'cos I know\n",
      "I know how you feel you're miles away\n",
      "You don't need to show me nobody listens to a word you say\n",
      "We can shut them out\n",
      "Where does it say that a man aint a right\n",
      "To throw back his head and cry\n",
      "\n",
      "When you need somebody find me there\n",
      "I'll be right beside you\n",
      "When you're feeling empty I'll be there\n",
      "Can you hear me? I'll be singing\n",
      "In the beginning was a golden ray\n",
      "God's power, but to my dismay\n",
      "\"We're only human,\" that's what people say\n",
      "Still I search far away\n",
      "\n",
      "\n",
      "\n",
      "There but for the grace of God go I\n",
      "I pretend I'm not afraid to die\n",
      "If there's a heaven, then I will apply\n",
      "Devils heat, you better take a ride\n",
      "I'm not crazy, but I believe in butterflies\n",
      "Dreams that die, should be a big surprise\n",
      "And life is my favourite nursery rhyme\n",
      "I'm not afraid of the big bad wolf\n",
      "\n",
      "\n",
      "\n",
      "\n",
      "\n",
      "Oh, so strong\n",
      "Tell me stories of distant shores\n",
      "All night long\n",
      "I shiver all over\n",
      "When I see your lovly tan\n",
      "And I can tell by your clear blue eyes\n",
      "You're a sailor man\n",
      "\n",
      "Na na... na na... na na... na na... na na na \n",
      "Oh, so cruel to me.\n",
      "\n",
      "Oh, why has it taken so long\n",
      "To see what's been happening to me?\n",
      "This time around, hey, I'm gone.\n",
      "Hey, I'm gone.\n",
      "\n",
      "You better get ready for a stormy day\n",
      "'cuz everything you love's about to wash away.\n",
      "I'm not gonna stand around and let you be\n",
      "So cruel to me. No.\n",
      "\n",
      "I'm not gonna stand around and let you be \n",
      "So cruel to me. No.\n",
      "\n",
      "Na na... na na... na na... na na... na na na \n",
      "\n",
      "Not gonna stand around and let you be\n"
     ]
    }
   ],
   "source": [
    "\n",
    "print clean_data(test)"
   ]
  },
  {
   "cell_type": "code",
   "execution_count": 43,
   "metadata": {
    "collapsed": true
   },
   "outputs": [],
   "source": [
    "test=\"\"\"SONG_META_ARTIST_TITLE:The Alternate Routes   Ain't No Secret\n",
    "\n",
    "But don't leave your keys for me, open the door\n",
    "Nobody's getting hurt here if nobody cares\n",
    "Nobody's getting lost if nobody's going anywhere\n",
    "\n",
    "And darling I know that you can't be sure of anything anymore\n",
    "\n",
    "I wanna love you like it ain't no secret\n",
    "Like I'm not ashamed to show\n",
    "Nor would I ever, oh never never\n",
    "Oh never let you go\n",
    "I'll never let you go\n",
    "\n",
    "I'm on a tight rope maybe I'm scared\n",
    "Maybe I love you but you never play fair\n",
    "So shed a little light where nobody sees\n",
    "I built a bible for the saints with my disbelief\n",
    "\n",
    "And darling I know that you can't be sure of anything anymore\n",
    "\n",
    "I wanna love you like it ain't no secret\n",
    "\n",
    "Like I'm not ashamed to show\n",
    "Nor would I ever, oh never never\n",
    "Oh never let you go\n",
    "\n",
    "My love is easy\n",
    "Tell me bout yours and then\n",
    "Tell me you need me\n",
    "Carry me home again\n",
    "It's been a mystery\n",
    "Most of the time\n",
    "Stranded on the big top\n",
    "Throw me a line\n",
    "\n",
    "I wanna love you like it ain't no secret\n",
    "Like I'm not ashamed to show\n",
    "Nor would I ever, oh never never\n",
    "Oh never let you go\n",
    "I'll never let you go\n",
    "\n",
    "\n",
    "SONG_META_ARTIST_TITLE:Kurt Nilsen   Come On\n",
    "\n",
    "It's my turn, searching for another break\n",
    "Set me free, I only see the setting sun\n",
    "Let me feel, like my luck has just begun\n",
    "Wherever I go, it's all the same\n",
    "We're so much alike, well, with a different name\n",
    "Days going by, I'm gonna catch 'em again\n",
    "I'm gonna lose this half-life, I'm on my way\n",
    "\n",
    "Come on, we never know before we try\n",
    "Come on, theres nothing we can't leave behind\n",
    "Come on, we're past the time for questions, why?\n",
    "Come on, yeah come on, what are we waiting for\n",
    "Come on\n",
    "\n",
    "Looking back, what happened to the time we spent\n",
    "It's gone, no small cost for a life of rent\n",
    "Let it go, Regret are just for feeling low\n",
    "Here and now, the only thing that's left to know\n",
    "\n",
    "Come on, we never know before we try\n",
    "Come on, theres nothing we can't leave behind\n",
    "Come on, we're past the time for questions, why\n",
    "Come on, yeah come on, what are we waiting for\n",
    "\n",
    "We owe it to ourselves now\n",
    "And no one else can live our dreams\n",
    "We owe it to ourselves, come on, come on\n",
    "What are we waiting for\n",
    "Come on, we never know before we try\n",
    "Come on, there's nothing we can't leave behind\n",
    "Come on, we're past the time for questions, why\n",
    "Come on, yeah come on, what are we waiting for\n",
    "Uhhhh, come on,\n",
    "Come on, we never know before we try\n",
    "So, come on, come on what are we waiting for\n",
    "Get it on, It's my turn, set me free\n",
    "Why don't you set me free, let me feel\n",
    "Uh, yeah, yeah, yeah\n",
    "Bring it on, bring it on, It's my turn\n",
    "Set me free\n",
    "Talk to me throw the ball back\n",
    "Let me feel, come on\n",
    "\n",
    "\n",
    "SONG_META_ARTIST_TITLE:Lemonator   Over Now\n",
    "\n",
    "You love me\n",
    "You love me like you love no one\n",
    "You leave me\n",
    "You leave me\n",
    "You leave me for the second time\n",
    "You come back\n",
    "You come back\n",
    "You come back like you did before\n",
    "Youre wasted\n",
    "Youre wasted\n",
    "Youre wasted like you were in\n",
    "\n",
    "California, fairyland\n",
    "California, you can't look bad\n",
    "Were over\n",
    "Were over\n",
    "\n",
    "Were over with this you and me\n",
    "Youre happy\n",
    "Im happy\n",
    "Were happy in our make belive\n",
    "Youre with another one\n",
    "Youre with another one\n",
    "\n",
    "Youre with that neighbours deep tanned blonde\n",
    "You scumbag\n",
    "You scumbag\n",
    "\n",
    "Youre scum and you can go to\n",
    "California, fairyland\n",
    "California, you can't look bad\n",
    "California, fairyland\n",
    "California, you can't look bad\n",
    "No, no you can't be like that\n",
    "No way, I can't be like that\n",
    "Oh no, well soon be like that\n",
    "California, fairyland\n",
    "California, you can't look bad\n",
    "California, fairyland\n",
    "California, you can't look bad\n",
    "\n",
    "\n",
    "SONG_META_ARTIST_TITLE:Alison Moyet   Find Me\n",
    "\n",
    "That it weighs you down\n",
    "So all you have is time\n",
    "Don't turn away\n",
    "We have both seen darker days\n",
    "And there's always a light that shines\n",
    "\n",
    "(Do you feel like) all your hopes are a long way gone\n",
    "(Does it seem like) every road only takes you down\n",
    "(Do they shut you out)\n",
    "Don't be afraid of what they say\n",
    "Throw back your head and cry\n",
    "\n",
    "When you need somebody, find me there\n",
    "When you're feeling empty I'll be there - find me\n",
    "\n",
    "When you're feeling weary with no peace of mind\n",
    "And the tone of your voice is hollow\n",
    "You're home to stranger that won't belong\n",
    "And there's no-one else to follow\n",
    "\n",
    "(Do you feel like) nowhere, oh no, there's no better way\n",
    "(Does it seem like) nobody hears a word you say\n",
    "(And they shut you out)\n",
    "And where does it say that a man aint a right\n",
    "To throw back his head and cry\n",
    "\n",
    "You don't need to tell me 'cos I know\n",
    "I know how you feel (you're miles away)\n",
    "You don't need to show me (nobody listens to a word you say)\n",
    "We can shut them out\n",
    "Where does it say that a man aint a right\n",
    "To throw back his head and cry\n",
    "\n",
    "When you need somebody find me there\n",
    "I'll be right beside you\n",
    "When you're feeling empty I'll be there\n",
    "Can you hear me? I'll be singing\n",
    "\"\"\""
   ]
  },
  {
   "cell_type": "code",
   "execution_count": null,
   "metadata": {
    "collapsed": true
   },
   "outputs": [],
   "source": []
  },
  {
   "cell_type": "code",
   "execution_count": null,
   "metadata": {
    "collapsed": true
   },
   "outputs": [],
   "source": []
  },
  {
   "cell_type": "code",
   "execution_count": null,
   "metadata": {
    "collapsed": true
   },
   "outputs": [],
   "source": []
  },
  {
   "cell_type": "markdown",
   "metadata": {},
   "source": [
    "## data cleaning: putting it in action"
   ]
  },
  {
   "cell_type": "code",
   "execution_count": null,
   "metadata": {
    "collapsed": true
   },
   "outputs": [],
   "source": []
  },
  {
   "cell_type": "code",
   "execution_count": null,
   "metadata": {
    "collapsed": true
   },
   "outputs": [],
   "source": []
  },
  {
   "cell_type": "code",
   "execution_count": 140,
   "metadata": {
    "collapsed": true
   },
   "outputs": [],
   "source": [
    "clean_file(test_data,test_data_clean)\n",
    "clean_file(train_data,train_data_clean)"
   ]
  },
  {
   "cell_type": "code",
   "execution_count": null,
   "metadata": {
    "collapsed": true
   },
   "outputs": [],
   "source": []
  },
  {
   "cell_type": "code",
   "execution_count": null,
   "metadata": {
    "collapsed": true
   },
   "outputs": [],
   "source": []
  },
  {
   "cell_type": "code",
   "execution_count": null,
   "metadata": {
    "collapsed": true
   },
   "outputs": [],
   "source": []
  },
  {
   "cell_type": "code",
   "execution_count": 116,
   "metadata": {
    "collapsed": false
   },
   "outputs": [
    {
     "data": {
      "text/plain": [
       "u'/Users/zangsir/repo/songLyrics'"
      ]
     },
     "execution_count": 116,
     "metadata": {},
     "output_type": "execute_result"
    }
   ],
   "source": [
    "pwd"
   ]
  },
  {
   "cell_type": "code",
   "execution_count": null,
   "metadata": {
    "collapsed": true
   },
   "outputs": [],
   "source": []
  },
  {
   "cell_type": "code",
   "execution_count": null,
   "metadata": {
    "collapsed": true
   },
   "outputs": [],
   "source": []
  },
  {
   "cell_type": "code",
   "execution_count": null,
   "metadata": {
    "collapsed": true
   },
   "outputs": [],
   "source": []
  },
  {
   "cell_type": "code",
   "execution_count": null,
   "metadata": {
    "collapsed": true
   },
   "outputs": [],
   "source": []
  },
  {
   "cell_type": "code",
   "execution_count": null,
   "metadata": {
    "collapsed": true
   },
   "outputs": [],
   "source": []
  },
  {
   "cell_type": "markdown",
   "metadata": {},
   "source": [
    "## scramble\n"
   ]
  },
  {
   "cell_type": "code",
   "execution_count": null,
   "metadata": {
    "collapsed": true
   },
   "outputs": [],
   "source": []
  },
  {
   "cell_type": "code",
   "execution_count": 56,
   "metadata": {
    "collapsed": false
   },
   "outputs": [],
   "source": [
    "import re\n",
    "pat=u'SONG_META_ARTIST_TITLE:.+\\n'\n",
    "#match=re.search(pat,test)\n",
    "new_test=re.sub(pat,'',test)"
   ]
  },
  {
   "cell_type": "code",
   "execution_count": 51,
   "metadata": {
    "collapsed": false
   },
   "outputs": [
    {
     "data": {
      "text/plain": [
       "\"SONG_META_ARTIST_TITLE:The Alternate Routes   Ain't No Secret\\n\""
      ]
     },
     "execution_count": 51,
     "metadata": {},
     "output_type": "execute_result"
    }
   ],
   "source": [
    "match.group()"
   ]
  },
  {
   "cell_type": "code",
   "execution_count": 53,
   "metadata": {
    "collapsed": false
   },
   "outputs": [],
   "source": [
    "new_test=re.sub(pat,'',test)"
   ]
  },
  {
   "cell_type": "code",
   "execution_count": 55,
   "metadata": {
    "collapsed": false
   },
   "outputs": [
    {
     "name": "stdout",
     "output_type": "stream",
     "text": [
      "\n",
      "But don't leave your keys for me, open the door\n",
      "Nobody's getting hurt here if nobody cares\n",
      "Nobody's getting lost if nobody's going anywhere\n",
      "\n",
      "And darling I know that you can't be sure of anything anymore\n",
      "\n",
      "I wanna love you like it ain't no secret\n",
      "Like I'm not ashamed to show\n",
      "Nor would I ever, oh never never\n",
      "Oh never let you go\n",
      "I'll never let you go\n",
      "\n",
      "I'm on a tight rope maybe I'm scared\n",
      "Maybe I love you but you never play fair\n",
      "So shed a little light where nobody sees\n",
      "I built a bible for the saints with my disbelief\n",
      "\n",
      "And darling I know that you can't be sure of anything anymore\n",
      "\n",
      "I wanna love you like it ain't no secret\n",
      "\n",
      "Like I'm not ashamed to show\n",
      "Nor would I ever, oh never never\n",
      "Oh never let you go\n",
      "\n",
      "My love is easy\n",
      "Tell me bout yours and then\n",
      "Tell me you need me\n",
      "Carry me home again\n",
      "It's been a mystery\n",
      "Most of the time\n",
      "Stranded on the big top\n",
      "Throw me a line\n",
      "\n",
      "I wanna love you like it ain't no secret\n",
      "Like I'm not ashamed to show\n",
      "Nor would I ever, oh never never\n",
      "Oh never let you go\n",
      "I'll never let you go\n",
      "\n",
      "\n",
      "\n",
      "It's my turn, searching for another break\n",
      "Set me free, I only see the setting sun\n",
      "Let me feel, like my luck has just begun\n",
      "Wherever I go, it's all the same\n",
      "We're so much alike, well, with a different name\n",
      "Days going by, I'm gonna catch 'em again\n",
      "I'm gonna lose this half-life, I'm on my way\n",
      "\n",
      "Come on, we never know before we try\n",
      "Come on, theres nothing we can't leave behind\n",
      "Come on, we're past the time for questions, why?\n",
      "Come on, yeah come on, what are we waiting for\n",
      "Come on\n",
      "\n",
      "Looking back, what happened to the time we spent\n",
      "It's gone, no small cost for a life of rent\n",
      "Let it go, Regret are just for feeling low\n",
      "Here and now, the only thing that's left to know\n",
      "\n",
      "Come on, we never know before we try\n",
      "Come on, theres nothing we can't leave behind\n",
      "Come on, we're past the time for questions, why\n",
      "Come on, yeah come on, what are we waiting for\n",
      "\n",
      "We owe it to ourselves now\n",
      "And no one else can live our dreams\n",
      "We owe it to ourselves, come on, come on\n",
      "What are we waiting for\n",
      "Come on, we never know before we try\n",
      "Come on, there's nothing we can't leave behind\n",
      "Come on, we're past the time for questions, why\n",
      "Come on, yeah come on, what are we waiting for\n",
      "Uhhhh, come on,\n",
      "Come on, we never know before we try\n",
      "So, come on, come on what are we waiting for\n",
      "Get it on, It's my turn, set me free\n",
      "Why don't you set me free, let me feel\n",
      "Uh, yeah, yeah, yeah\n",
      "Bring it on, bring it on, It's my turn\n",
      "Set me free\n",
      "Talk to me throw the ball back\n",
      "Let me feel, come on\n",
      "\n",
      "\n",
      "\n",
      "You love me\n",
      "You love me like you love no one\n",
      "You leave me\n",
      "You leave me\n",
      "You leave me for the second time\n",
      "You come back\n",
      "You come back\n",
      "You come back like you did before\n",
      "Youre wasted\n",
      "Youre wasted\n",
      "Youre wasted like you were in\n",
      "\n",
      "California, fairyland\n",
      "California, you can't look bad\n",
      "Were over\n",
      "Were over\n",
      "\n",
      "Were over with this you and me\n",
      "Youre happy\n",
      "Im happy\n",
      "Were happy in our make belive\n",
      "Youre with another one\n",
      "Youre with another one\n",
      "\n",
      "Youre with that neighbours deep tanned blonde\n",
      "You scumbag\n",
      "You scumbag\n",
      "\n",
      "Youre scum and you can go to\n",
      "California, fairyland\n",
      "California, you can't look bad\n",
      "California, fairyland\n",
      "California, you can't look bad\n",
      "No, no you can't be like that\n",
      "No way, I can't be like that\n",
      "Oh no, well soon be like that\n",
      "California, fairyland\n",
      "California, you can't look bad\n",
      "California, fairyland\n",
      "California, you can't look bad\n",
      "\n",
      "\n",
      "\n",
      "That it weighs you down\n",
      "So all you have is time\n",
      "Don't turn away\n",
      "We have both seen darker days\n",
      "And there's always a light that shines\n",
      "\n",
      "(Do you feel like) all your hopes are a long way gone\n",
      "(Does it seem like) every road only takes you down\n",
      "(Do they shut you out)\n",
      "Don't be afraid of what they say\n",
      "Throw back your head and cry\n",
      "\n",
      "When you need somebody, find me there\n",
      "When you're feeling empty I'll be there - find me\n",
      "\n",
      "When you're feeling weary with no peace of mind\n",
      "And the tone of your voice is hollow\n",
      "You're home to stranger that won't belong\n",
      "And there's no-one else to follow\n",
      "\n",
      "(Do you feel like) nowhere, oh no, there's no better way\n",
      "(Does it seem like) nobody hears a word you say\n",
      "(And they shut you out)\n",
      "And where does it say that a man aint a right\n",
      "To throw back his head and cry\n",
      "\n",
      "You don't need to tell me 'cos I know\n",
      "I know how you feel (you're miles away)\n",
      "You don't need to show me (nobody listens to a word you say)\n",
      "We can shut them out\n",
      "Where does it say that a man aint a right\n",
      "To throw back his head and cry\n",
      "\n",
      "When you need somebody find me there\n",
      "I'll be right beside you\n",
      "When you're feeling empty I'll be there\n",
      "Can you hear me? I'll be singing\n",
      "\n"
     ]
    }
   ],
   "source": [
    "print new_test"
   ]
  },
  {
   "cell_type": "code",
   "execution_count": null,
   "metadata": {
    "collapsed": true
   },
   "outputs": [],
   "source": []
  },
  {
   "cell_type": "code",
   "execution_count": null,
   "metadata": {
    "collapsed": true
   },
   "outputs": [],
   "source": []
  },
  {
   "cell_type": "code",
   "execution_count": null,
   "metadata": {
    "collapsed": true
   },
   "outputs": [],
   "source": []
  },
  {
   "cell_type": "code",
   "execution_count": null,
   "metadata": {
    "collapsed": true
   },
   "outputs": [],
   "source": []
  },
  {
   "cell_type": "code",
   "execution_count": null,
   "metadata": {
    "collapsed": true
   },
   "outputs": [],
   "source": []
  },
  {
   "cell_type": "code",
   "execution_count": null,
   "metadata": {
    "collapsed": true
   },
   "outputs": [],
   "source": []
  },
  {
   "cell_type": "code",
   "execution_count": null,
   "metadata": {
    "collapsed": true
   },
   "outputs": [],
   "source": []
  },
  {
   "cell_type": "code",
   "execution_count": null,
   "metadata": {
    "collapsed": true
   },
   "outputs": [],
   "source": []
  },
  {
   "cell_type": "code",
   "execution_count": null,
   "metadata": {
    "collapsed": true
   },
   "outputs": [],
   "source": []
  },
  {
   "cell_type": "code",
   "execution_count": null,
   "metadata": {
    "collapsed": true
   },
   "outputs": [],
   "source": []
  },
  {
   "cell_type": "code",
   "execution_count": null,
   "metadata": {
    "collapsed": true
   },
   "outputs": [],
   "source": []
  }
 ],
 "metadata": {
  "kernelspec": {
   "display_name": "Python 2",
   "language": "python",
   "name": "python2"
  },
  "language_info": {
   "codemirror_mode": {
    "name": "ipython",
    "version": 2
   },
   "file_extension": ".py",
   "mimetype": "text/x-python",
   "name": "python",
   "nbconvert_exporter": "python",
   "pygments_lexer": "ipython2",
   "version": "2.7.12"
  }
 },
 "nbformat": 4,
 "nbformat_minor": 0
}
