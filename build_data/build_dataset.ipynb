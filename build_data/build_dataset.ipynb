{
 "cells": [
  {
   "cell_type": "markdown",
   "metadata": {
    "collapsed": true
   },
   "source": [
    "# build Rock corpus\n",
    "reference code & dataset seed: Sebastian Raschka, http://www.cs.ubbcluj.ro/zbodo/lastfm.html"
   ]
  },
  {
   "cell_type": "code",
   "execution_count": null,
   "metadata": {
    "collapsed": true
   },
   "outputs": [],
   "source": []
  },
  {
   "cell_type": "code",
   "execution_count": 2,
   "metadata": {
    "collapsed": true
   },
   "outputs": [],
   "source": [
    "import urllib\n",
    "import lxml.html\n",
    "\n",
    "class Song(object):\n",
    "    def __init__(self, artist, title):\n",
    "        self.artist = self.__format_str(artist)\n",
    "        self.title = self.__format_str(title)\n",
    "        self.url = None\n",
    "        self.lyric = None\n",
    "        \n",
    "    def __format_str(self, s):\n",
    "        # remove paranthesis and contents\n",
    "        s = s.strip()\n",
    "        try:\n",
    "            # strip accent\n",
    "            s = ''.join(c for c in unicodedata.normalize('NFD', s)\n",
    "                         if unicodedata.category(c) != 'Mn')\n",
    "        except:\n",
    "            pass\n",
    "        s = s.title()\n",
    "        return s\n",
    "        \n",
    "    def __quote(self, s):\n",
    "         return urllib.pathname2url(s.replace(' ', '_'))\n",
    "\n",
    "    def __make_url(self):\n",
    "        artist = self.__quote(self.artist)\n",
    "        title = self.__quote(self.title)\n",
    "        artist_title = '%s:%s' %(artist, title)\n",
    "        url = 'http://lyrics.wikia.com/' + artist_title\n",
    "        self.url = url\n",
    "        \n",
    "    def update(self, artist=None, title=None):\n",
    "        if artist:\n",
    "            self.artist = self.__format_str(artist)\n",
    "        if title:\n",
    "            self.title = self.__format_str(title)\n",
    "        \n",
    "    def lyricwikia(self):\n",
    "        self.__make_url()\n",
    "        try:\n",
    "            doc = lxml.html.parse(self.url)\n",
    "            lyricbox = doc.getroot().cssselect('.lyricbox')[0]\n",
    "        except (IOError, IndexError) as e:\n",
    "            self.lyric = ''\n",
    "            return self.lyric\n",
    "        lyrics = []\n",
    "\n",
    "        for node in lyricbox:\n",
    "            if node.tag == 'br':\n",
    "                lyrics.append('\\n')\n",
    "            if node.tail is not None:\n",
    "                lyrics.append(node.tail)\n",
    "        self.lyric =  \"\".join(lyrics).strip()    \n",
    "        return self.lyric"
   ]
  },
  {
   "cell_type": "code",
   "execution_count": 3,
   "metadata": {
    "collapsed": false
   },
   "outputs": [
    {
     "name": "stdout",
     "output_type": "stream",
     "text": [
      "Two American kids growin' up in the heartland\n",
      "Jackie gonna be a football star\n",
      "Diane's a debutante, backseat of Jackie's car\n",
      "\n",
      "Suckin' on a chili dog outside the Tastee-Freez\n",
      "Diane's sittin' on Jackie's lap\n",
      "He's got his hands between her knees\n",
      "Jackie say, \"Hey Diane, let's run off behind the shady trees\n",
      "Dribble off those Bobbie Brooks, let me do what I please.\"\n",
      "And say uh\n",
      "\n",
      "Oh yeah, life goes on\n",
      "Long after the thrill of livin' is gone, they say uh\n",
      "Oh yeah, life goes on\n",
      "Long after the thrill of livin' is gone, they walk on\n",
      "\n",
      "Jackie sits back, collects his thoughts for the moment\n",
      "Scratches his head and does his best James Dean\n",
      "\"Well then there Diane, we oughta run off to the city.\"\n",
      "Diane says, \"Baby, you ain't missin' nothing.\"\n",
      "And Jackie say uh\n",
      "\n",
      "Oh yeah, life goes on\n",
      "Long after the thrill of livin' is gone\n",
      "Oh yeah, they say life goes on\n",
      "Long after the thrill of livin' is gone\n",
      "\n",
      "Gonna let it rock\n",
      "Let it roll\n",
      "Let the Bible Belt come and save my soul\n",
      "Hold on to sixteen as long as you can\n",
      "Changes come around real soon\n",
      "Make us women and men\n",
      "\n",
      "Oh yeah, life goes on\n",
      "Long after the thrill of livin' is gone\n",
      "Oh yeah, they say life goes on\n",
      "Long after the thrill of livin' is gone\n",
      "\n",
      "A little ditty about Jack and Diane\n",
      "Two American kids doin' the best they can\n"
     ]
    }
   ],
   "source": [
    "#example\n",
    "song = Song(artist='John Mellencamp', title='Jack and Diane')\n",
    "lyr = song.lyricwikia()\n",
    "print(lyr)"
   ]
  },
  {
   "cell_type": "markdown",
   "metadata": {},
   "source": [
    "# build data set by getting data from lastfm"
   ]
  },
  {
   "cell_type": "markdown",
   "metadata": {},
   "source": [
    "# test set"
   ]
  },
  {
   "cell_type": "code",
   "execution_count": 5,
   "metadata": {
    "collapsed": true
   },
   "outputs": [],
   "source": []
  },
  {
   "cell_type": "markdown",
   "metadata": {},
   "source": [
    "## test set top genres"
   ]
  },
  {
   "cell_type": "code",
   "execution_count": 25,
   "metadata": {
    "collapsed": false
   },
   "outputs": [],
   "source": [
    "lastfm_test='/Users/zangsir/Downloads/lastfm.test_data.json'\n",
    "f=open(lastfm_test,'r').read().split('\\n')\n",
    "\n",
    "import json\n",
    "from collections import defaultdict\n",
    "#seen=set()\n",
    "genres=defaultdict(int)\n",
    "for i in range(len(f)):\n",
    "    if f[i]=='':\n",
    "        continue\n",
    "    a=json.loads(f[i])\n",
    "    top_tag=a['tags'][0][0]\n",
    "    #seen.add(top_tag)\n",
    "    genres[top_tag]+=1\n",
    "    \n",
    "print sorted(genres.items(),key=lambda x:x[1],reverse=True)[:10]"
   ]
  },
  {
   "cell_type": "code",
   "execution_count": 30,
   "metadata": {
    "collapsed": false
   },
   "outputs": [
    {
     "name": "stdout",
     "output_type": "stream",
     "text": [
      "[(u'rock', 1507), (u'indie', 938), (u'pop', 813), (u'country', 665), (u'folk', 466), (u'soul', 385), (u'Progressive rock', 372), (u'death metal', 364), (u'electronic', 362), (u'80s', 362)]\n"
     ]
    }
   ],
   "source": [
    "\n"
   ]
  },
  {
   "cell_type": "code",
   "execution_count": null,
   "metadata": {
    "collapsed": true
   },
   "outputs": [],
   "source": []
  },
  {
   "cell_type": "markdown",
   "metadata": {},
   "source": [
    "## train set"
   ]
  },
  {
   "cell_type": "code",
   "execution_count": 31,
   "metadata": {
    "collapsed": false
   },
   "outputs": [
    {
     "name": "stdout",
     "output_type": "stream",
     "text": [
      "[(u'rock', 15269), (u'indie', 6803), (u'pop', 6299), (u'country', 5066), (u'punk', 3818), (u'soul', 3436), (u'folk', 3113), (u'80s', 3022), (u'classic rock', 2756), (u'electronic', 2445)]\n"
     ]
    }
   ],
   "source": [
    "lastfm_train='/Users/zangsir/Downloads/lastfm.train_data.json'\n",
    "f=open(lastfm_train,'r').read().split('\\n')\n",
    "\n",
    "import json\n",
    "from collections import defaultdict\n",
    "#seen=set()\n",
    "genres=defaultdict(int)\n",
    "for i in range(len(f)):\n",
    "    if f[i]=='':\n",
    "        continue\n",
    "    a=json.loads(f[i])\n",
    "    top_tag=a['tags'][0][0]\n",
    "    #seen.add(top_tag)\n",
    "    genres[top_tag]+=1\n",
    "    \n",
    "print sorted(genres.items(),key=lambda x:x[1],reverse=True)[:10]"
   ]
  },
  {
   "cell_type": "markdown",
   "metadata": {},
   "source": [
    "# rock has the most tunes in both data sets. let's download lyrics for rock"
   ]
  },
  {
   "cell_type": "markdown",
   "metadata": {},
   "source": [
    "## first we need to get the artist and title of songs where tags are rock"
   ]
  },
  {
   "cell_type": "code",
   "execution_count": 34,
   "metadata": {
    "collapsed": true
   },
   "outputs": [],
   "source": [
    "def get_artist_title(data_set):\n",
    "    \"\"\"return a list of lists, where each of the inner lists is a tuple of artist and title \"\"\"\n",
    "    f=open(data_set,'r').read().split('\\n')\n",
    "    all_downloads=[]\n",
    "    for i in range(len(f)):\n",
    "        if f[i]=='':\n",
    "            continue\n",
    "        a=json.loads(f[i])\n",
    "        top_tag=a['tags'][0][0]\n",
    "        #seen.add(top_tag)\n",
    "        if top_tag=='rock':\n",
    "            artist=a['artist_new']\n",
    "            title=a['title_new']#using the lyricsWikia artist and title names\n",
    "            all_downloads.append([artist,title])\n",
    "    return all_downloads"
   ]
  },
  {
   "cell_type": "code",
   "execution_count": 36,
   "metadata": {
    "collapsed": false
   },
   "outputs": [],
   "source": [
    "test_rock=get_artist_title(lastfm_test)"
   ]
  },
  {
   "cell_type": "code",
   "execution_count": 40,
   "metadata": {
    "collapsed": true
   },
   "outputs": [],
   "source": [
    "train_rock=get_artist_title(lastfm_train)"
   ]
  },
  {
   "cell_type": "markdown",
   "metadata": {},
   "source": [
    "# download lyrics"
   ]
  },
  {
   "cell_type": "code",
   "execution_count": null,
   "metadata": {
    "collapsed": true
   },
   "outputs": [],
   "source": []
  },
  {
   "cell_type": "code",
   "execution_count": 56,
   "metadata": {
    "collapsed": true
   },
   "outputs": [],
   "source": [
    "\n",
    "def download_lyrics(artist_title_list):\n",
    "    open('lyrics_data.txt','w').close()\n",
    "    f=open('lyrics_data.txt','a')\n",
    "    count=1\n",
    "    for tup in artist_title_list:\n",
    "        if count%500==0:\n",
    "            print count\n",
    "        try:\n",
    "            song = Song(artist=tup[0], title=tup[1])\n",
    "            lyr = song.lyricwikia()\n",
    "            f.write(\"SONG_META_ARTIST_TITLE:\" + tup[0] + \"   \" + tup[1]+'\\n\\n')\n",
    "            f.write(lyr.encode('utf-8')+'\\n\\n\\n')\n",
    "            count+=1\n",
    "        except Exception:\n",
    "            print 'error'\n",
    "            continue\n",
    "    f.close()\n",
    "    print 'total downloaded:',count\n",
    "    \n",
    "        "
   ]
  },
  {
   "cell_type": "code",
   "execution_count": null,
   "metadata": {
    "collapsed": true
   },
   "outputs": [],
   "source": []
  },
  {
   "cell_type": "code",
   "execution_count": 55,
   "metadata": {
    "collapsed": true
   },
   "outputs": [
    {
     "name": "stdout",
     "output_type": "stream",
     "text": [
      "error\n",
      "error\n",
      "error\n",
      "error\n",
      "total downloaded: 1504\n"
     ]
    }
   ],
   "source": [
    "download_lyrics(test_rock)"
   ]
  },
  {
   "cell_type": "code",
   "execution_count": 57,
   "metadata": {
    "collapsed": true
   },
   "outputs": [
    {
     "name": "stdout",
     "output_type": "stream",
     "text": [
      "error\n",
      "500\n",
      "error\n",
      "error\n",
      "1000\n",
      "error\n",
      "error\n",
      "error\n",
      "1500\n",
      "error\n",
      "error\n",
      "2000\n",
      "error\n",
      "error\n",
      "2500\n",
      "error\n",
      "error\n",
      "error\n",
      "3000\n",
      "error\n",
      "error\n",
      "error\n",
      "3500\n",
      "4000\n",
      "error\n",
      "4500\n",
      "5000\n",
      "error\n",
      "error\n",
      "error\n",
      "5500\n",
      "error\n",
      "error\n",
      "6000\n",
      "error\n",
      "error\n",
      "error\n",
      "error\n",
      "error\n",
      "error\n",
      "6500\n",
      "error\n",
      "7000\n",
      "7500\n",
      "error\n",
      "error\n",
      "error\n",
      "error\n",
      "error\n",
      "8000\n",
      "error\n",
      "8500\n",
      "error\n",
      "error\n",
      "error\n",
      "error\n",
      "9000\n",
      "9500\n",
      "error\n",
      "error\n",
      "10000\n",
      "error\n",
      "error\n",
      "10500\n",
      "error\n",
      "11000\n",
      "error\n",
      "error\n",
      "11500\n",
      "error\n",
      "error\n",
      "12000\n",
      "error\n",
      "error\n",
      "12500\n",
      "error\n",
      "error\n",
      "error\n",
      "13000\n",
      "error\n",
      "error\n",
      "13500\n",
      "error\n",
      "error\n",
      "error\n",
      "error\n",
      "14000\n",
      "error\n",
      "error\n",
      "error\n",
      "14500\n",
      "error\n",
      "15000\n",
      "error\n",
      "total downloaded: 15206\n"
     ]
    }
   ],
   "source": [
    "download_lyrics(train_rock)"
   ]
  },
  {
   "cell_type": "code",
   "execution_count": null,
   "metadata": {
    "collapsed": true
   },
   "outputs": [],
   "source": []
  },
  {
   "cell_type": "code",
   "execution_count": null,
   "metadata": {
    "collapsed": true
   },
   "outputs": [],
   "source": []
  },
  {
   "cell_type": "code",
   "execution_count": null,
   "metadata": {
    "collapsed": true
   },
   "outputs": [],
   "source": []
  },
  {
   "cell_type": "code",
   "execution_count": null,
   "metadata": {
    "collapsed": true
   },
   "outputs": [],
   "source": []
  },
  {
   "cell_type": "code",
   "execution_count": null,
   "metadata": {
    "collapsed": true
   },
   "outputs": [],
   "source": []
  },
  {
   "cell_type": "code",
   "execution_count": null,
   "metadata": {
    "collapsed": true
   },
   "outputs": [],
   "source": []
  },
  {
   "cell_type": "code",
   "execution_count": null,
   "metadata": {
    "collapsed": true
   },
   "outputs": [],
   "source": []
  },
  {
   "cell_type": "code",
   "execution_count": null,
   "metadata": {
    "collapsed": true
   },
   "outputs": [],
   "source": []
  },
  {
   "cell_type": "code",
   "execution_count": null,
   "metadata": {
    "collapsed": true
   },
   "outputs": [],
   "source": []
  }
 ],
 "metadata": {
  "kernelspec": {
   "display_name": "Python 2",
   "language": "python",
   "name": "python2"
  },
  "language_info": {
   "codemirror_mode": {
    "name": "ipython",
    "version": 2
   },
   "file_extension": ".py",
   "mimetype": "text/x-python",
   "name": "python",
   "nbconvert_exporter": "python",
   "pygments_lexer": "ipython2",
   "version": "2.7.12"
  }
 },
 "nbformat": 4,
 "nbformat_minor": 0
}
